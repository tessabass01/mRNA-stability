{
 "cells": [
  {
   "cell_type": "code",
   "execution_count": null,
   "id": "a4239598",
   "metadata": {},
   "outputs": [],
   "source": [
    "import requests\n",
    "\n",
    "ensembl_ids = [\"ENST00000269305\", \"ENST00000361390\"]\n",
    "\n",
    "server = \"https://rest.ensembl.org\"\n",
    "utr_sequences = {}\n",
    "\n",
    "for transcript_id in ensembl_ids:\n",
    "    # 5' UTR\n",
    "    url_5utr = f\"{server}/sequence/id/{transcript_id}?type=5utr\"\n",
    "    r5 = requests.get(url_5utr, headers={\"Content-Type\": \"text/plain\"})\n",
    "    \n",
    "    # 3' UTR\n",
    "    url_3utr = f\"{server}/sequence/id/{transcript_id}?type=3utr\"\n",
    "    r3 = requests.get(url_3utr, headers={\"Content-Type\": \"text/plain\"})\n",
    "    \n",
    "    if r5.status_code == 200 and r3.status_code == 200:\n",
    "        utr_sequences[transcript_id] = {\n",
    "            \"5utr\": r5.text,\n",
    "            \"3utr\": r3.text\n",
    "        }\n",
    "    else:\n",
    "        print(f\"Failed to retrieve UTR for {transcript_id}\")\n",
    "\n",
    "for tid, seqs in utr_sequences.items():\n",
    "    print(f\">{tid}_5utr\\n{seqs['5utr']}\")\n",
    "    print(f\">{tid}_3utr\\n{seqs['3utr']}\")"
   ]
  }
 ],
 "metadata": {
  "language_info": {
   "name": "python"
  }
 },
 "nbformat": 4,
 "nbformat_minor": 5
}
